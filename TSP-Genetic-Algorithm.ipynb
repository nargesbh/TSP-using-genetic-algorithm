{
 "cells": [
  {
   "cell_type": "markdown",
   "id": "1d0e1912",
   "metadata": {},
   "source": [
    "### Babaahmadi-Narges-610398102-HW1\n",
    "### importing needed libraries"
   ]
  },
  {
   "cell_type": "code",
   "execution_count": 1,
   "id": "740bc4f3",
   "metadata": {},
   "outputs": [],
   "source": [
    "import numpy as np\n",
    "import pandas as pd\n",
    "import matplotlib as plt\n",
    "import more_itertools as mit"
   ]
  },
  {
   "cell_type": "markdown",
   "id": "25f9993a",
   "metadata": {},
   "source": [
    "#### Reading input file\n",
    "Here i read the input file and find the number of the cities. After that i change the input matrix such that all rows contain exactly 28 elements(number of the cities-1).\n",
    "changing the matrix in this way, helps me in making the fitness function."
   ]
  },
  {
   "cell_type": "code",
   "execution_count": 2,
   "id": "79b2145b",
   "metadata": {},
   "outputs": [],
   "source": [
    "def input_maker(path):\n",
    "    #reading the testcase\n",
    "    file = open(path)\n",
    "    input_raw = file.read()\n",
    "    file.close()\n",
    "    \n",
    "    #making matris from the file so that it's easier to use it\n",
    "    input_mat = input_raw.split('\\n')\n",
    "    number_of_towns = int(input_mat[3].split(':')[-1].strip())\n",
    "    \n",
    "    #making the town's matrix\n",
    "    town_mat = []\n",
    "    for i in range (8, 36):\n",
    "        help_arr = input_mat[i].split()\n",
    "        for i in range(len(help_arr)):\n",
    "            help_arr[i] = int(help_arr[i])\n",
    "        m = number_of_towns - len(help_arr)\n",
    "        for i in range(m):\n",
    "            help_arr.insert(0,0)\n",
    "            \n",
    "        town_mat.append(help_arr)\n",
    "\n",
    "    return town_mat, number_of_towns"
   ]
  },
  {
   "cell_type": "markdown",
   "id": "8acfbe7b",
   "metadata": {},
   "source": [
    "### fitness function\n",
    "In the box bellow i calculated the fitness function using the matrix i made in the last cell.\n",
    "(i also considered that the salesman will come back from the last city(chromosome[number_of_towns-1] to the first city (chromosome[0]))"
   ]
  },
  {
   "cell_type": "code",
   "execution_count": 3,
   "id": "8fef5d97",
   "metadata": {},
   "outputs": [],
   "source": [
    "#coding the fitness function \n",
    "def fitness_func(chromosome):\n",
    "    overall_cost=0\n",
    "    \n",
    "    for i in range(len(chromosome)-1):\n",
    "        if chromosome[i]<chromosome[i+1]:\n",
    "            overall_cost += town_mat[chromosome[i]][chromosome[i+1]]\n",
    "            \n",
    "        elif chromosome[i] > chromosome[i+1]:\n",
    "            overall_cost += town_mat[chromosome[i+1]][chromosome[i]]\n",
    "    if chromosome[0] < chromosome[number_of_towns - 1]:\n",
    "        overall_cost += town_mat[chromosome[0]][chromosome[number_of_towns-1]]\n",
    "    elif chromosome[0] > chromosome[number_of_towns - 1]:\n",
    "        overall_cost += town_mat[chromosome[number_of_towns-1]][chromosome[0]]\n",
    "    return overall_cost"
   ]
  },
  {
   "cell_type": "markdown",
   "id": "73eed213",
   "metadata": {},
   "source": [
    "### making the society\n",
    "To make the society, i made random permutations of numbers from 0 to (number_of_towns - 1). Then to visualize my society i made a dataframe from the society and their costs."
   ]
  },
  {
   "cell_type": "code",
   "execution_count": 4,
   "id": "4cfde05d",
   "metadata": {},
   "outputs": [],
   "source": [
    "#with respect to the number of the population, we make the society\n",
    "def make_society(population):\n",
    "    society = []\n",
    "    for i in range(population):\n",
    "        society.append(mit.random_permutation(range(number_of_towns)))\n",
    "        \n",
    "    fitness = []\n",
    "    for chromosome in society:\n",
    "        fitness.append(fitness_func(chromosome))\n",
    "        \n",
    "    df = pd.DataFrame({'society':society,'fitnesses':fitness})\n",
    "    print(df)\n",
    "    return society, df"
   ]
  },
  {
   "cell_type": "markdown",
   "id": "d31e114a",
   "metadata": {},
   "source": [
    "### choosing parents for crossover\n",
    "In truncation function, first I divid my data frame. One part has T percent of the population and the othe part has (100-T) percent(obviously:)).\\\n",
    "Then , from the first T percent, i randomly chosed N chromosomes."
   ]
  },
  {
   "cell_type": "code",
   "execution_count": 5,
   "id": "3eb298c8",
   "metadata": {},
   "outputs": [],
   "source": [
    "#choosing parents using truncation method\n",
    "def truncation(T,N):\n",
    "    df2 = df.sort_values(by=['fitnesses'])\n",
    "    T_num = int((T/100)*(len(df2)))\n",
    "    df2 = df2.head(T_num)\n",
    "    df2 = df2.sample(N)\n",
    "\n",
    "    return df2"
   ]
  },
  {
   "cell_type": "markdown",
   "id": "a76614dd",
   "metadata": {},
   "source": [
    "### crossover\n",
    "I used order recombination method in here, which means the constructed child has inherited indexes (point1) to (point2) from the first chromosome, and other indexes comes from the second chromosome. "
   ]
  },
  {
   "cell_type": "code",
   "execution_count": 6,
   "id": "316d75fc",
   "metadata": {},
   "outputs": [],
   "source": [
    "def order_recombination(chromosome1, chromosome2, point1, point2):\n",
    "    child = []\n",
    "    for i in range(number_of_towns):\n",
    "        child.append(-1)\n",
    "        \n",
    "    for i in range(point1, point2+1):\n",
    "        child[i] = chromosome1[i]\n",
    "        \n",
    "    counter = point2+1\n",
    "    for i in range(point2+1, number_of_towns):\n",
    "        if (chromosome2[i] not in child):\n",
    "            child[counter] = chromosome2[i]\n",
    "            counter+=1\n",
    "            \n",
    "    for i in range(point2+1):\n",
    "        if(chromosome2[i] not in child):\n",
    "            if counter < number_of_towns :\n",
    "                child[counter] = chromosome2[i]\n",
    "                counter+=1\n",
    "            else:\n",
    "                counter = 0\n",
    "                child[counter] = chromosome2[i]\n",
    "                counter+=1\n",
    "\n",
    "    return child"
   ]
  },
  {
   "cell_type": "markdown",
   "id": "6cd22bd6",
   "metadata": {},
   "source": [
    "### mutation\n",
    "In order to change the children a bit, so that I don't get stuch in local optimized point, i did mutation on some of the children.\\\n",
    "My mutation function mirrors indexes 4,5,6 to 9,8,7 respectively. "
   ]
  },
  {
   "cell_type": "code",
   "execution_count": 7,
   "id": "4e6042d1",
   "metadata": {},
   "outputs": [],
   "source": [
    "#implementing mutation\n",
    "def mutation(chromosome):\n",
    "    #mirroring the elements between index 4 and index 9\n",
    "    help_int = 0\n",
    "    index = 9\n",
    "    for i in range(4,7):\n",
    "        help_int = chromosome[index]\n",
    "        chromosome[index] = chromosome[i]\n",
    "        chromosome[i] = help_int\n",
    "        index-=1\n",
    "    return chromosome"
   ]
  },
  {
   "cell_type": "markdown",
   "id": "84b95914",
   "metadata": {},
   "source": [
    "### main part \n",
    "in this part I iterate for 100 times.\\\n",
    "usefull information about my variables are included in the comments."
   ]
  },
  {
   "cell_type": "code",
   "execution_count": null,
   "id": "447f36cd",
   "metadata": {},
   "outputs": [],
   "source": [
    "global children\n",
    "global town_mat\n",
    "global number_of_towns\n",
    "global society\n",
    "global df\n",
    "\n",
    "population = 5000\n",
    "\n",
    "# N is the number of parents that i choose \n",
    "N = 1000\n",
    "\n",
    "# T is the percentage of population that i choose N from \n",
    "T = 30\n",
    "\n",
    "#child_num is the number of children I make in each iteration\n",
    "child_num = 1500\n",
    "\n",
    "#child_percentage is the percentage of children that i mutate\n",
    "child_percentage = 10\n",
    "\n",
    "#In mean array, I store the mean of different iterations.\n",
    "#In min1 array I store the minimum of different iterations.\n",
    "mean = []\n",
    "min1 = []\n",
    "\n",
    "town_mat, number_of_towns = input_maker(\"bayg29.tsp\")\n",
    "society,df = make_society(population)\n",
    "\n",
    "for i in range(100):\n",
    "    society = truncation(T, N)['society'].to_list()\n",
    "    children =[]\n",
    "\n",
    "    #making the children\n",
    "    for i in range(child_num):\n",
    "        res = []\n",
    "        for j in range(2):\n",
    "            res.append(np.random.randint(0,N))\n",
    "        point1 = np.random.randint(0,number_of_towns-1)\n",
    "        point2 = np.random.randint(point1,number_of_towns-1)\n",
    "        child = order_recombination(society[res[0]], society[res[1]], point1 , point2)\n",
    "        children.append(child)\n",
    "     \n",
    "    #children mutation\n",
    "    m = int( (child_percentage/100) * child_num ) # m is the number of children that get mutated\n",
    "\n",
    "    for i in range(m):\n",
    "        children[i] = mutation(children[i])\n",
    "        \n",
    "    #finding the fittness of the children\n",
    "    fitness = []\n",
    "    for child in children:\n",
    "        fitness.append(fitness_func(child))\n",
    "\n",
    "    #making a data frame for children\n",
    "    df_children  = pd.DataFrame({'society':children,'fitnesses':fitness})\n",
    "    \n",
    "    df = df.sort_values(by=['fitnesses'])   \n",
    "    df = df.head(population - child_num)\n",
    "    \n",
    "    #adding children to our society\n",
    "    frames = [df, df_children]\n",
    "    df = pd.concat(frames)\n",
    "    df2 = df.sort_values(by=['fitnesses'])\n",
    "    \n",
    "    me= df2['fitnesses'].mean()\n",
    "    mi = df2['fitnesses'].min()\n",
    "    mean.append(me)\n",
    "    min1.append(mi)\n",
    "\n",
    "    print(df2)"
   ]
  },
  {
   "cell_type": "code",
   "execution_count": 9,
   "id": "37708dda",
   "metadata": {},
   "outputs": [
    {
     "name": "stdout",
     "output_type": "stream",
     "text": [
      "[3266, 2964, 2964, 2964, 2964, 2964, 2964, 2932, 2869, 2869, 2752, 2752, 2665, 2665, 2665, 2580, 2580, 2557, 2557, 2501, 2501, 2409, 2406, 2325, 2325, 2325, 2238, 2238, 2238, 2238, 2238, 2238, 2238, 2206, 2174, 2174, 2174, 2174, 2147, 2147, 2147, 2003, 2003, 2003, 2003, 2003, 2003, 2003, 2003, 2003, 1912, 1912, 1911, 1911, 1869, 1869, 1869, 1865, 1865, 1821, 1821, 1821, 1801, 1801, 1736, 1736, 1705, 1705, 1705, 1705, 1705, 1699, 1696, 1696, 1656, 1653, 1624, 1624, 1624, 1624, 1624, 1624, 1624, 1624, 1622, 1622, 1617, 1617, 1617, 1617, 1610, 1610, 1610, 1610, 1610, 1610, 1610, 1610, 1610, 1610]\n",
      "[4512.2512, 4358.6558, 4233.0132, 4125.1142, 4023.307, 3932.5618, 3849.8888, 3769.5844, 3698.152, 3629.228, 3566.3354, 3504.9338, 3447.1536, 3394.2416, 3342.942, 3295.981, 3251.5252, 3207.6516, 3165.2282, 3127.8008, 3084.5286, 3049.1616, 3014.6608, 2981.7136, 2952.159, 2924.367, 2896.0814, 2867.2142, 2838.5924, 2815.3492, 2787.8636, 2761.6844, 2738.0394, 2712.862, 2691.7142, 2666.1978, 2643.4802, 2623.95, 2604.6592, 2584.965, 2566.8152, 2549.1462, 2528.8054, 2508.9942, 2489.9566, 2467.6842, 2446.8966, 2425.3844, 2406.9146, 2383.5606, 2366.6616, 2345.9788, 2326.5176, 2305.1536, 2283.8812, 2262.3722, 2243.275, 2224.9588, 2206.7314, 2188.4016, 2170.2274, 2154.306, 2134.2142, 2115.1992, 2097.209, 2079.4264, 2059.2716, 2040.7468, 2021.1114, 2001.3258, 1979.8112, 1962.3524, 1940.1596, 1919.7024, 1902.332, 1882.897, 1861.8882, 1847.369, 1832.035, 1815.4102, 1800.5322, 1785.6088, 1768.997, 1756.5854, 1744.569, 1735.422, 1721.7192, 1711.7096, 1701.7108, 1691.9802, 1682.699, 1674.3194, 1664.7136, 1658.9502, 1652.717, 1648.112, 1650.0378, 1645.974, 1648.4472, 1647.912]\n"
     ]
    }
   ],
   "source": [
    "print(min1)\n",
    "print(mean)"
   ]
  },
  {
   "cell_type": "code",
   "execution_count": 10,
   "id": "6d3288a6",
   "metadata": {},
   "outputs": [
    {
     "data": {
      "text/plain": [
       "<AxesSubplot:>"
      ]
     },
     "execution_count": 10,
     "metadata": {},
     "output_type": "execute_result"
    },
    {
     "data": {
      "image/png": "[encoded data removed]",
      "text/plain": [
       "<Figure size 432x288 with 1 Axes>"
      ]
     },
     "metadata": {
      "needs_background": "light"
     },
     "output_type": "display_data"
    }
   ],
   "source": [
    "data = pd.DataFrame({'mean':mean, 'min':min1})\n",
    "data.plot()"
   ]
  },
  {
   "cell_type": "markdown",
   "id": "157dbc5a",
   "metadata": {},
   "source": [
    "### Best chromosome with its fitness"
   ]
  },
  {
   "cell_type": "code",
   "execution_count": 11,
   "id": "de5cc012",
   "metadata": {},
   "outputs": [
    {
     "name": "stdout",
     "output_type": "stream",
     "text": [
      "                                               society  fitnesses\n",
      "736  [11, 8, 25, 2, 28, 4, 20, 1, 19, 9, 3, 14, 17,...       1610\n"
     ]
    }
   ],
   "source": [
    "print(df2.head(1))"
   ]
  }
 ],
 "metadata": {
  "kernelspec": {
   "display_name": "Python 3 (ipykernel)",
   "language": "python",
   "name": "python3"
  },
  "language_info": {
   "codemirror_mode": {
    "name": "ipython",
    "version": 3
   },
   "file_extension": ".py",
   "mimetype": "text/x-python",
   "name": "python",
   "nbconvert_exporter": "python",
   "pygments_lexer": "ipython3",
   "version": "3.8.10"
  }
 },
 "nbformat": 4,
 "nbformat_minor": 5
}
